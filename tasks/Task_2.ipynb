{
 "cells": [
  {
   "cell_type": "markdown",
   "metadata": {},
   "source": [
    "# Задание 2.\n",
    "\n",
    "**NB. Все упражнения ниже нужно делать без использования циклов Python в явном (`while`, `for`) и неявном виде (list comprehension, `map`, `reduce` и пр)**\n",
    "\n",
    "Задания по манипуляциям с массивами чаще всего решаются в одно/два выражения. "
   ]
  },
  {
   "cell_type": "code",
   "execution_count": 1,
   "metadata": {},
   "outputs": [
    {
     "data": {
      "text/plain": [
       "array([[27, 35, 49, ..., 54, 30, 30],\n",
       "       [58, 24,  0, ..., 98, 72, 57],\n",
       "       [14, 86, 87, ..., 65, 65, 64],\n",
       "       ...,\n",
       "       [79,  5, 31, ...,  4, 82, 73],\n",
       "       [77, 82,  9, ..., 38, 68, 84],\n",
       "       [64, 58,  4, ..., 42, 24, 20]])"
      ]
     },
     "execution_count": 1,
     "metadata": {},
     "output_type": "execute_result"
    }
   ],
   "source": [
    "%matplotlib inline\n",
    "\n",
    "import numpy as np\n",
    "import matplotlib.pyplot as plt\n",
    "import seaborn as sns\n",
    "sns.set_theme()\n",
    "\n",
    "A = np.random.randint(0, 100, size=(200, 50))\n",
    "A"
   ]
  },
  {
   "cell_type": "markdown",
   "metadata": {},
   "source": [
    "# Задание 2.1 (2 балла)\n",
    "\n",
    "Сгенерируйте новый массив, в котором столбцы массива `A` переставлены в случайном порядке"
   ]
  },
  {
   "cell_type": "code",
   "execution_count": 2,
   "metadata": {},
   "outputs": [
    {
     "name": "stdout",
     "output_type": "stream",
     "text": [
      "[[18 69 96 ... 67 16 37]\n",
      " [48 62 51 ... 12 11 18]\n",
      " [59 99  8 ... 35 55  6]\n",
      " ...\n",
      " [58 12 47 ...  7 93 40]\n",
      " [27 85 91 ... 87 46 46]\n",
      " [43 91 44 ... 74 43 70]]\n"
     ]
    }
   ],
   "source": [
    "#Сгенерируйте новый массив, в котором столбцы массива `A` переставлены в случайном порядке.\n",
    "\n",
    "A = np.random.randint(0, 100, size=(200, 50))\n",
    "np.random.shuffle(A.T)\n",
    "print(A)"
   ]
  },
  {
   "cell_type": "markdown",
   "metadata": {},
   "source": [
    "# Задание 2.2 (5 баллов)\n",
    "\n",
    "Сгенерируйте новый массив, который содержит только те строки массива `A`, в которых: \n",
    "- сумма элементов по четным столбцам (индексы $0, 2, \\ldots$) больше среднего значения (по всему массиву) суммы элементов по нечетным столбцам (индексы $1, 3, \\ldots$) "
   ]
  },
  {
   "cell_type": "code",
   "execution_count": 3,
   "metadata": {},
   "outputs": [
    {
     "name": "stdout",
     "output_type": "stream",
     "text": [
      "[[50  1 69 ...  5 83 60]\n",
      " [79 54 56 ... 60 35 21]\n",
      " [77 42 81 ...  9 77 26]\n",
      " ...\n",
      " [51 76 78 ... 27 59 25]\n",
      " [37 40 17 ... 18 12 78]\n",
      " [58 21 81 ...  2 76 46]]\n"
     ]
    }
   ],
   "source": [
    "#Generate a new array that contains only those rows of array `A` in which:\n",
    "# - the sum of elements in even columns (indexes 0, 2,...) is greater than the average value (across the entire array) of the sum of elements in odd columns (indexes 1, 3,...).\n",
    "\n",
    "A = np.random.randint(0, 100, size=(200, 50))\n",
    "B = A[:, ::2]\n",
    "C = A[:, 1::2]\n",
    "D = B.sum(axis=1) > C.sum(axis=1).mean()\n",
    "print(A[D])\n",
    "\n",
    "\n"
   ]
  },
  {
   "cell_type": "markdown",
   "metadata": {},
   "source": [
    "# Задача 2.3 (3 балла)\n",
    "\n",
    "Найдите индекс строки массива `A`, в которой разница между максимальным и минимальным элементом максимальна"
   ]
  },
  {
   "cell_type": "code",
   "execution_count": 4,
   "metadata": {},
   "outputs": [
    {
     "name": "stdout",
     "output_type": "stream",
     "text": [
      "0\n"
     ]
    }
   ],
   "source": [
    "# Find the index of the array string `A` in which the difference between the maximum and minimum element is maximal.\n",
    "\n",
    "A = np.random.randint(0, 100, size=(200, 50))\n",
    "B = A.max(axis=1) - A.min(axis=1)\n",
    "print(B.argmax())\n"
   ]
  },
  {
   "cell_type": "markdown",
   "metadata": {},
   "source": [
    "# Задание 2.4 (7 баллов)\n",
    "\n",
    "Сгенерируйте массив той же размерности, что и `A`, но в котором каждый элемент заменен на его порядковый номер (начиная с 1) в отсортированном по возрастанию массиве из элементов `A`\n",
    "\n",
    "Если `A` выглядит так:\n",
    "$$\n",
    "\\begin{pmatrix}\n",
    "12 & 14\\\\\n",
    "1 & 2\n",
    "\\end{pmatrix}\n",
    "$$\n",
    "то результат должен быть\n",
    "$$\n",
    "\\begin{pmatrix}\n",
    "3 & 4\\\\\n",
    "1 & 2\n",
    "\\end{pmatrix}\n",
    "$$\n",
    "\n",
    "*Tip: рассмотрите возможность неоднократного применения [argsort()](https://numpy.org/doc/stable/reference/generated/numpy.ndarray.argsort.html)*"
   ]
  },
  {
   "cell_type": "code",
   "execution_count": 5,
   "metadata": {},
   "outputs": [
    {
     "name": "stdout",
     "output_type": "stream",
     "text": [
      "[[   0   70   69 ...   67   46   21]\n",
      " [  20   19   18 ...  153  151  152]\n",
      " [ 154  150  147 ...  101  100   99]\n",
      " ...\n",
      " [9784 9783 9782 ... 9968 9966 9965]\n",
      " [9964 9963 9962 ... 9945 9917 9915]\n",
      " [9914 9913 9912 ... 9922 9920 9999]]\n",
      "[[66 41 64 ... 33 37 60]\n",
      " [58 13 22 ... 53 29 13]\n",
      " [61 13 37 ...  5  0 13]\n",
      " ...\n",
      " [54 54 12 ... 80 48 21]\n",
      " [78 53  6 ... 78 42  8]\n",
      " [41 21 83 ... 44  8 68]]\n"
     ]
    }
   ],
   "source": [
    "# Generate an array of the same dimension as `A`, but in which each element is replaced by its ordinal number (starting from 1) in an ascending array of `A` elements.\n",
    "\n",
    "A = np.random.randint(0, 100, size=(200, 50))\n",
    "B = np.sort(A, axis=None)\n",
    "C = np.argsort(B)\n",
    "print(C.reshape(A.shape))\n",
    "print(A)\n",
    "\n"
   ]
  },
  {
   "cell_type": "markdown",
   "metadata": {},
   "source": [
    "# Задание 2.5 (2 балла)\n",
    "\n",
    "Примените $\\min-\\max$ - нормализацию к строкам массива `A`. То есть нужно получить новый массивы, в каждой строке которого максимальный элементы равен $1$, минимальный - $0$. "
   ]
  },
  {
   "cell_type": "code",
   "execution_count": 22,
   "metadata": {},
   "outputs": [
    {
     "name": "stdout",
     "output_type": "stream",
     "text": [
      "[[0.02020202 0.87878788 0.98989899 ... 1.         0.21212121 0.51515152]\n",
      " [0.35483871 0.48387097 0.02150538 ... 0.74193548 0.02150538 1.        ]\n",
      " [0.         0.05154639 0.35051546 ... 0.17525773 0.05154639 0.86597938]\n",
      " ...\n",
      " [0.69387755 0.98979592 0.01020408 ... 0.84693878 0.34693878 0.87755102]\n",
      " [0.6875     0.59375    0.85416667 ... 0.69791667 0.02083333 1.        ]\n",
      " [0.58762887 0.35051546 0.84536082 ... 0.17525773 0.49484536 0.89690722]]\n"
     ]
    }
   ],
   "source": [
    "# Apply min-max normalization to the rows of array `A'. \n",
    "# That is, you need to get a new array, in each row of which the maximum element is 1, the minimum is 0.\n",
    "\n",
    "A = np.random.randint(0, 100, size=(200, 50))\n",
    "B = A.max(axis=1)\n",
    "C = A.min(axis=1)\n",
    "D = (A - C[:, np.newaxis]) / (B - C)[:, np.newaxis]\n",
    "print(D)\n"
   ]
  },
  {
   "cell_type": "markdown",
   "metadata": {},
   "source": [
    "# Задание 2.6 (2 балла)\n",
    "\n",
    "Сгенерируйте новый трехмерный массив, размерности $10 \\times 200 \\times 50$. Подмассивы по нулевой оси должны состоять из элементов `A`, умноженных на $1 - 10$ соответственно"
   ]
  },
  {
   "cell_type": "code",
   "execution_count": 23,
   "metadata": {},
   "outputs": [
    {
     "name": "stdout",
     "output_type": "stream",
     "text": [
      "(10, 200, 50)\n",
      "[[[ 48  16  88 ...  67  34  75]\n",
      "  [ 97  53  38 ...  30  45  76]\n",
      "  [ 74  66  77 ...  16  14  42]\n",
      "  ...\n",
      "  [ 42  47  35 ...  46  22  45]\n",
      "  [ 22  53  43 ...  69  27   2]\n",
      "  [  6  56  33 ...  88  23  31]]\n",
      "\n",
      " [[ 12 138  44 ...  48 104 154]\n",
      "  [184  10 142 ...  42 124  56]\n",
      "  [148  26 158 ... 180 174 124]\n",
      "  ...\n",
      "  [ 52 176 144 ... 116  28 168]\n",
      "  [134 118  96 ...   8  10 184]\n",
      "  [106  42 196 ... 160 148  20]]\n",
      "\n",
      " [[294  36 231 ...  48  75 204]\n",
      "  [129  60  69 ...  99 267   3]\n",
      "  [138 246 123 ... 270 273 138]\n",
      "  ...\n",
      "  [147 150  12 ...  27 117 147]\n",
      "  [ 27 249 123 ... 153  39   3]\n",
      "  [243 282  57 ...  63 288 240]]\n",
      "\n",
      " ...\n",
      "\n",
      " [[ 88 240 736 ... 648 248 712]\n",
      "  [304 264 192 ... 392 464 424]\n",
      "  [760 792  80 ... 680 736 328]\n",
      "  ...\n",
      "  [648  88 568 ... 376 720 192]\n",
      "  [640 352  24 ... 560 552 376]\n",
      "  [592 568 512 ... 336 720 288]]\n",
      "\n",
      " [[396 630 432 ... 711 639   0]\n",
      "  [ 81 666 405 ... 486 729  54]\n",
      "  [243 522 171 ... 774 864 234]\n",
      "  ...\n",
      "  [207 540 522 ...  81  81 333]\n",
      "  [810 369 450 ... 513 306  99]\n",
      "  [720 441 207 ...  54 702  81]]\n",
      "\n",
      " [[450 160 580 ...  80 110 900]\n",
      "  [540 200 900 ... 400 690 930]\n",
      "  [850 720 870 ... 850 410 960]\n",
      "  ...\n",
      "  [330 150 570 ... 180 390 940]\n",
      "  [660 800 110 ... 790 940 890]\n",
      "  [420 600 150 ... 210 930 140]]]\n"
     ]
    }
   ],
   "source": [
    "# Generate a new three-dimensional array of dimensions 10x200x50. The subarrays along the zero axis should consist of elements `A` multiplied by 1 - 10, respectively.\n",
    "\n",
    "A = np.random.randint(0, 100, size=(10,200, 50))\n",
    "B = np.arange(1, 11)\n",
    "C = A * B[:, np.newaxis, np.newaxis]\n",
    "print(C.shape)\n",
    "print(C)\n"
   ]
  },
  {
   "cell_type": "markdown",
   "metadata": {},
   "source": [
    "# Задание 2.7 (2 балла)\n",
    "\n",
    "Создайте новый массив, такой же размерности, как и `A`, в котором сначала сгруппированы четные столбцы `A`, потом  нечетные. Используйте [np.concat()](https://numpy.org/doc/stable/reference/generated/numpy.concatenate.html) "
   ]
  },
  {
   "cell_type": "code",
   "execution_count": 24,
   "metadata": {},
   "outputs": [
    {
     "name": "stdout",
     "output_type": "stream",
     "text": [
      "[[33 57 97 ... 37  1 35]\n",
      " [23  4  4 ... 67 29 77]\n",
      " [38 16 60 ... 70 31 76]\n",
      " ...\n",
      " [ 0 24 80 ... 45 67 83]\n",
      " [63 56 78 ... 99 83 40]\n",
      " [74 21 69 ...  5 11 90]]\n"
     ]
    }
   ],
   "source": [
    "# Create a new array of the same dimension as `A`, in which the even columns of `A` are grouped first, then the odd ones. Use [np.concat()] (https://numpy.org/doc/stable/reference/generated/numpy.concatenate.html).\n",
    "\n",
    "A = np.random.randint(0, 100, size=(200, 50))\n",
    "B = A[:, ::2]\n",
    "C = A[:, 1::2]\n",
    "D = np.concatenate((B, C), axis=1)\n",
    "print(D)\n"
   ]
  },
  {
   "cell_type": "markdown",
   "metadata": {},
   "source": [
    "# Задание 2.8 (2 балла)\n",
    "\n",
    "Посчитайте количество строк массива `A`, в который все элементы больше 5. Используйте [np.all()](https://numpy.org/doc/stable/reference/generated/numpy.all.html) "
   ]
  },
  {
   "cell_type": "code",
   "execution_count": 26,
   "metadata": {},
   "outputs": [
    {
     "name": "stdout",
     "output_type": "stream",
     "text": [
      "9\n"
     ]
    }
   ],
   "source": [
    "# Count the number of rows of the array `A`, in which all elements are greater than 5. Use [np.all()](https://numpy.org/doc/stable/reference/generated/numpy.all.html ).\n",
    "\n",
    "A = np.random.randint(0, 100, size=(200, 50))\n",
    "B = A > 5\n",
    "C = np.all(B, axis=1)\n",
    "print(C.sum())\n",
    "\n"
   ]
  },
  {
   "cell_type": "markdown",
   "metadata": {},
   "source": [
    "# Задание 2.9 (2 балла)\n",
    "\n",
    "Поделите массив `A` горизонтально на 10 частей и создайте новый массив размерности $20 \\times 50$, который является средним этих частей. Используйте [np.split()](https://numpy.org/doc/stable/reference/generated/numpy.split.html)"
   ]
  },
  {
   "cell_type": "code",
   "execution_count": 27,
   "metadata": {},
   "outputs": [
    {
     "name": "stdout",
     "output_type": "stream",
     "text": [
      "(20, 50)\n",
      "[[57.1 47.6 55.6 41.9 75.3 39.2 58.7 32.3 37.  51.5 48.  48.3 51.9 44.5\n",
      "  43.9 55.  38.  53.  52.2 56.  49.1 42.7 40.2 53.7 40.4 43.3 57.3 68.\n",
      "  67.  55.6 45.3 44.2 63.1 69.2 41.9 42.8 47.8 42.8 66.3 43.3 48.1 37.1\n",
      "  38.  68.9 48.8 50.7 50.2 47.1 35.6 48.8]\n",
      " [51.9 40.9 43.4 45.3 49.4 56.8 62.7 54.2 65.7 45.6 48.3 50.5 57.6 53.9\n",
      "  42.7 52.9 53.6 41.3 55.5 57.5 40.3 55.6 41.3 60.1 39.6 47.2 45.1 37.9\n",
      "  52.3 40.  41.8 26.6 50.4 45.2 50.8 61.5 50.3 54.7 50.  47.5 57.1 47.5\n",
      "  51.5 59.8 50.8 39.3 60.1 44.8 63.1 59.9]\n",
      " [60.6 59.1 44.5 41.9 68.2 45.5 74.  56.9 55.2 57.3 56.8 54.9 44.8 48.8\n",
      "  36.1 53.2 31.2 42.2 50.9 39.6 68.2 52.3 55.  48.7 48.4 33.7 39.8 47.2\n",
      "  45.3 71.2 52.2 58.1 52.5 40.  41.6 58.3 38.8 39.1 45.3 57.3 49.6 51.5\n",
      "  39.4 55.1 63.8 44.6 41.8 56.9 62.6 31.3]\n",
      " [55.3 40.5 43.8 51.1 40.4 47.8 60.  27.2 46.2 54.7 55.5 71.6 40.8 56.8\n",
      "  44.1 48.1 47.1 54.  43.5 41.7 32.4 55.2 44.6 59.5 53.4 50.3 71.9 44.7\n",
      "  53.8 53.9 37.8 49.3 58.7 47.1 56.5 53.3 33.6 41.2 39.1 46.5 47.1 40.6\n",
      "  43.3 50.7 50.9 53.6 39.  36.9 31.5 51.2]\n",
      " [55.8 38.4 51.  41.6 47.3 45.3 40.3 58.7 64.6 49.1 46.7 48.4 49.9 61.\n",
      "  54.5 55.3 65.7 79.  48.1 58.7 46.7 55.5 45.5 44.9 31.4 50.1 48.8 47.6\n",
      "  54.5 49.5 46.4 56.8 48.2 53.8 45.6 43.3 44.9 54.2 53.1 41.  46.7 55.5\n",
      "  36.4 50.6 52.  48.4 39.8 41.7 50.1 47.6]\n",
      " [58.6 73.5 61.3 59.1 53.5 36.8 56.5 51.9 56.3 38.6 54.6 51.3 49.6 45.9\n",
      "  64.5 45.2 44.6 41.3 49.4 48.2 52.1 34.1 55.4 34.3 60.9 29.  52.1 44.3\n",
      "  63.1 66.4 43.8 49.2 32.5 50.4 50.9 51.8 44.5 42.6 46.9 59.6 59.  39.9\n",
      "  46.7 41.6 61.6 59.  40.3 47.1 56.7 48.9]\n",
      " [55.2 60.3 39.7 43.5 40.4 60.7 53.9 63.7 59.2 58.4 53.  39.7 38.  54.8\n",
      "  56.9 48.4 45.8 39.6 51.3 45.6 46.3 29.7 47.  49.1 46.3 50.4 45.5 38.\n",
      "  59.  56.6 41.2 58.8 53.6 67.  49.5 46.9 58.4 37.6 46.9 54.3 34.1 61.4\n",
      "  42.2 36.4 59.2 54.  38.2 55.3 67.1 47.7]\n",
      " [46.8 46.4 55.5 53.8 46.3 59.  33.5 56.8 47.9 53.6 52.8 50.5 47.6 46.\n",
      "  41.3 58.2 59.9 39.8 53.4 48.3 46.  48.7 28.1 54.3 44.3 50.2 54.8 51.8\n",
      "  44.1 51.8 40.  32.1 40.4 41.5 60.3 37.5 42.1 57.5 64.4 28.2 35.4 39.5\n",
      "  47.1 52.5 43.8 46.8 28.8 45.9 49.9 60.2]\n",
      " [50.8 47.5 49.5 53.6 40.3 49.2 57.  51.2 64.5 55.6 58.8 64.6 50.9 55.3\n",
      "  53.5 64.4 39.8 59.9 46.4 42.  63.8 38.7 60.9 55.5 49.8 50.9 43.8 31.3\n",
      "  54.7 55.3 43.9 39.9 42.9 53.  39.  45.2 62.8 51.1 73.1 55.6 48.9 35.8\n",
      "  34.5 49.4 49.9 41.5 40.2 50.2 50.3 43.2]\n",
      " [52.2 47.  62.1 54.7 50.  59.8 43.  47.8 28.6 54.1 39.6 60.8 55.2 47.6\n",
      "  48.7 43.1 44.5 51.9 65.6 37.6 34.2 46.9 55.5 40.9 69.9 51.8 57.  34.9\n",
      "  59.5 42.4 65.2 47.2 41.7 52.8 49.4 54.9 36.  52.  55.  34.3 39.8 49.7\n",
      "  50.6 31.5 61.4 58.6 44.4 50.  54.9 52.3]\n",
      " [48.4 40.  55.2 48.8 58.4 41.6 43.  63.  59.  49.6 51.3 55.8 52.3 41.1\n",
      "  56.5 66.  50.3 49.6 61.3 63.1 47.8 22.8 55.3 60.7 42.3 55.5 49.4 38.7\n",
      "  56.7 39.  33.1 40.8 60.3 47.6 42.3 59.5 47.8 58.  37.5 31.9 57.2 53.8\n",
      "  45.7 54.  46.7 29.6 59.7 50.9 51.6 42.8]\n",
      " [44.2 50.2 61.4 52.3 55.4 40.  72.3 58.4 58.7 42.6 43.2 48.2 48.1 64.9\n",
      "  35.3 58.9 35.3 38.8 40.4 42.8 47.8 31.6 56.2 50.2 51.6 44.1 46.7 41.7\n",
      "  49.2 53.7 46.1 58.9 57.8 43.3 61.8 50.6 43.  67.8 52.1 53.6 50.2 47.6\n",
      "  57.4 50.  52.5 34.6 56.6 53.4 41.9 43.3]\n",
      " [58.3 49.9 41.1 55.6 36.2 51.7 45.1 39.7 44.8 62.  44.9 44.8 50.5 44.6\n",
      "  61.1 66.2 57.1 63.1 42.  66.2 38.8 52.1 52.9 39.  51.5 43.8 65.  49.9\n",
      "  41.8 36.4 58.  55.4 49.8 50.4 55.8 65.8 45.  52.2 38.1 37.6 50.7 66.5\n",
      "  56.  37.8 60.1 48.6 33.4 30.6 37.9 50.5]\n",
      " [60.2 49.1 53.8 47.9 40.  48.9 39.4 35.6 47.5 49.6 59.1 40.9 41.  49.4\n",
      "  44.5 46.2 41.  34.8 54.3 60.7 54.7 53.1 56.1 41.6 47.  37.  64.6 49.1\n",
      "  61.1 59.7 32.1 37.1 37.4 61.4 49.2 54.9 55.3 50.8 61.2 36.2 44.7 61.9\n",
      "  52.9 46.1 58.6 40.7 56.5 44.8 53.5 51. ]\n",
      " [34.1 30.5 54.7 38.3 33.2 61.6 56.  34.5 60.3 51.2 44.1 65.  59.9 31.9\n",
      "  51.8 48.4 42.  50.8 50.5 40.3 45.9 47.2 57.1 55.3 65.3 59.  47.4 44.1\n",
      "  27.1 60.6 70.6 56.1 53.4 51.5 50.7 54.  57.1 54.8 54.9 57.7 41.2 36.7\n",
      "  45.8 44.7 57.8 46.1 48.9 53.2 54.3 61.8]\n",
      " [56.5 49.3 59.1 44.5 37.8 57.1 40.1 49.1 48.7 35.8 53.7 62.  52.6 40.2\n",
      "  65.  49.2 43.3 43.  56.  52.2 48.9 49.2 37.1 47.  74.9 55.  55.2 48.7\n",
      "  44.8 61.6 59.1 29.8 49.9 53.1 39.  63.7 56.8 56.9 60.2 52.5 33.6 52.5\n",
      "  50.1 33.5 66.6 41.3 35.7 51.8 67.1 45.6]\n",
      " [49.5 42.2 52.2 51.1 59.1 57.4 28.3 56.7 46.6 47.1 59.8 30.4 48.8 43.9\n",
      "  74.1 52.5 30.8 43.3 55.8 68.2 63.7 32.9 71.7 39.8 39.8 50.  46.4 50.\n",
      "  41.9 58.1 46.3 49.5 37.  62.8 47.2 41.1 37.  47.6 43.2 63.3 43.1 43.7\n",
      "  62.9 53.8 42.8 64.8 40.8 57.7 77.4 59.9]\n",
      " [35.3 53.  62.9 47.9 40.7 41.7 51.4 57.9 37.5 41.1 31.  50.4 66.9 46.5\n",
      "  45.8 51.5 41.5 61.  39.1 51.2 53.4 48.4 43.  50.2 61.9 46.  36.1 52.8\n",
      "  54.7 50.9 54.5 52.2 55.7 45.2 52.9 49.4 51.1 40.3 42.2 36.  45.7 51.9\n",
      "  51.6 43.1 54.6 53.1 56.8 46.8 65.3 33.6]\n",
      " [49.2 36.  63.6 49.1 48.7 60.  48.  53.  44.5 61.  47.8 59.3 36.4 48.\n",
      "  42.8 53.  49.8 59.2 51.6 58.7 44.7 50.5 45.1 56.  47.1 37.3 39.1 53.8\n",
      "  46.2 54.6 52.9 59.1 37.3 58.2 46.9 57.2 59.8 54.2 54.9 37.1 65.6 50.8\n",
      "  39.8 59.3 63.  55.9 34.2 50.5 41.  43.3]\n",
      " [61.7 78.9 35.3 27.3 54.4 56.  46.7 45.8 47.8 54.4 44.2 53.3 55.8 54.8\n",
      "  38.5 55.9 67.2 52.9 69.4 57.9 58.9 42.2 51.8 59.4 47.4 41.4 52.6 57.6\n",
      "  63.6 29.2 53.2 55.3 66.3 68.2 52.6 40.9 36.3 47.3 60.4 36.1 49.  52.4\n",
      "  59.9 68.5 38.9 51.7 37.7 52.  67.2 53.8]]\n"
     ]
    }
   ],
   "source": [
    "# Divide the array `A` horizontally into 10 parts and create a new array of dimension 20x50, which is the average of these parts. Use [np.split()](https://numpy.org/doc/stable/reference/generated/numpy.split.html ).\n",
    "\n",
    "A = np.random.randint(0, 100, size=(200, 50))\n",
    "B = np.split(A, 10, axis=0)\n",
    "C = np.mean(B, axis=0)\n",
    "print(C.shape)\n",
    "print(C)\n",
    "\n"
   ]
  },
  {
   "cell_type": "markdown",
   "metadata": {},
   "source": [
    "# Задание 2.10 (4 балла)\n",
    "\n",
    "\"Разверните\" массив `A` в одномерный массив. Оставьте в нём только уникальные элементы в том же порядке, в котором они встречаются в массиве. Используйте [np.unique()](https://numpy.org/doc/stable/reference/generated/numpy.unique.html)"
   ]
  },
  {
   "cell_type": "code",
   "execution_count": 28,
   "metadata": {},
   "outputs": [
    {
     "name": "stdout",
     "output_type": "stream",
     "text": [
      "(100,)\n",
      "[ 0  1  2  3  4  5  6  7  8  9 10 11 12 13 14 15 16 17 18 19 20 21 22 23\n",
      " 24 25 26 27 28 29 30 31 32 33 34 35 36 37 38 39 40 41 42 43 44 45 46 47\n",
      " 48 49 50 51 52 53 54 55 56 57 58 59 60 61 62 63 64 65 66 67 68 69 70 71\n",
      " 72 73 74 75 76 77 78 79 80 81 82 83 84 85 86 87 88 89 90 91 92 93 94 95\n",
      " 96 97 98 99]\n"
     ]
    }
   ],
   "source": [
    "#\"Expand\" the array `A` into a one-dimensional array. Leave only the unique elements in it in the same order in which they occur in the array. Use [np.unique()](https://numpy.org/doc/stable/reference/generated/numpy.unique.html ).\n",
    "\n",
    "A = np.random.randint(0, 100, size=(200, 50))\n",
    "B = np.unique(A)\n",
    "print(B.shape)\n",
    "print(B)\n",
    "\n"
   ]
  },
  {
   "cell_type": "markdown",
   "metadata": {},
   "source": [
    "# Задание 2.11 (3 балла)\n",
    "\n",
    "Создайте одномерный массив размерности $200$, в котором каждый элемент - евклидово расстояние между соответствующей строкой `A` и \"средней\" строкой `A`"
   ]
  },
  {
   "cell_type": "code",
   "execution_count": 12,
   "metadata": {},
   "outputs": [
    {
     "name": "stdout",
     "output_type": "stream",
     "text": [
      "(200,)\n",
      "[180.67073552 212.73451689 194.93174363 189.47800578 177.89916997\n",
      " 220.51540689 220.7747374  190.73598159 209.79719892 192.93839606\n",
      " 177.82984754 191.80314042 195.90820472 212.13338887 195.24875076\n",
      " 201.38762294 183.98020186 197.10429898 206.70305918 203.10104548\n",
      " 188.20846069 206.30660357 219.02624198 199.1077464  224.10302246\n",
      " 197.65347119 201.12805541 212.45407663 200.03168418 209.37918873\n",
      " 204.52062164 189.6163091  218.13602333 186.53059984 198.47220127\n",
      " 213.09961209 208.14219821 202.61689139 221.76260883 196.50400677\n",
      " 201.95012918 190.82901948 214.84635132 202.87484978 215.9016551\n",
      " 214.46336441 221.73248448 194.95790488 200.30477946 200.36807299\n",
      " 218.2376335  205.83926903 205.32144232 181.50089442 206.69154476\n",
      " 190.33403446 199.53286615 192.45800756 202.55101746 198.43987673\n",
      " 202.78139627 216.75625637 206.07402717 196.20151548 194.27206355\n",
      " 225.9523062  211.07874046 215.97290264 192.45008359 199.33222187\n",
      " 209.54699873 219.25737086 194.48178494 197.39038648 173.50972502\n",
      " 187.6130184  214.28906802 190.26001859 218.29907163 201.13446914\n",
      " 208.31858936 196.77717011 217.05928839 195.04687815 179.59026888\n",
      " 193.94152385 199.343133   215.15818524 187.75557162 195.83667857\n",
      " 190.66796971 216.49162726 199.82688677 200.37895267 191.4022588\n",
      " 199.31102497 211.52599054 208.79378505 195.15602649 227.80694606\n",
      " 203.22114721 199.58402911 216.68845072 191.46037364 214.95067963\n",
      " 204.54922311 197.83031789 176.71735816 218.11057901 206.32143533\n",
      " 190.00703849 205.41541976 194.62303223 220.22648495 194.44524853\n",
      " 203.53828798 196.85229152 225.42427703 221.03025737 208.06228557\n",
      " 184.75157557 197.91491777 200.07482269 203.53816516 172.3559244\n",
      " 222.21733658 190.16178553 203.16893137 205.2473987  210.35497302\n",
      " 208.62081554 189.78238768 212.63655536 216.05023646 201.41113344\n",
      " 224.74969338 210.43819681 226.87834774 203.3153331  205.55353238\n",
      " 204.50949776 201.25562023 195.50515255 213.40033898 211.54787797\n",
      " 215.73695714 190.91842414 201.01884159 202.8345007  203.94157172\n",
      " 197.67482054 185.41719088 211.55258135 222.46353561 210.37629304\n",
      " 201.66312175 223.42319637 191.05403601 213.95213174 202.94323018\n",
      " 204.35443395 218.04619849 182.86586525 202.71673506 222.96695871\n",
      " 209.80940083 211.90364479 180.49239506 194.64702586 191.21766308\n",
      " 216.83105099 202.57562705 204.11914333 221.83438569 220.38301812\n",
      " 212.5622607  215.62187893 202.2156885  194.56861174 204.21176429\n",
      " 198.29781813 200.89304287 233.07845176 193.92432719 210.99887363\n",
      " 180.52400027 214.36425699 181.79126677 204.08134328 201.15850635\n",
      " 206.53942644 202.9271413  175.66793867 235.40882455 207.00274074\n",
      " 205.55338644 219.32791586 196.506424   200.98217502 208.14563333]\n"
     ]
    }
   ],
   "source": [
    "# Create a one-dimensional array of dimension 200, in which each element is the Euclidean distance between the corresponding row `A` and the \"middle\" row `A`. Use [np.linalg.norm()](https://numpy.org/doc/stable/reference/generated/numpy.linalg.norm.html ).\n",
    "\n",
    "A = np.random.randint(0, 100, size=(200, 50))\n",
    "B = A.mean(axis=0)\n",
    "C = np.sqrt(((A - B) ** 2).sum(axis=1))\n",
    "print(C.shape)\n",
    "print(C)"
   ]
  },
  {
   "cell_type": "markdown",
   "metadata": {},
   "source": [
    "# Задание 2.12 (2 балла)\n",
    "\n",
    "Создайте новый массив, который состоит из элементов `A`, измененных по следующим правилам:\n",
    "- если элемент меньше $50$, то он умножается на $2$\n",
    "- в противном случае он умножается на $3$\n",
    "\n",
    "Используйте [np.where()](https://numpy.org/doc/stable/reference/generated/numpy.where.html)"
   ]
  },
  {
   "cell_type": "code",
   "execution_count": 29,
   "metadata": {},
   "outputs": [
    {
     "name": "stdout",
     "output_type": "stream",
     "text": [
      "[[174  84 282 ... 234 189 264]\n",
      " [261 180  40 ...  54  48  78]\n",
      " [ 64 231  30 ... 189  44  54]\n",
      " ...\n",
      " [ 98  60 282 ...   4  90 195]\n",
      " [ 10 222 198 ...  98 285   8]\n",
      " [ 40  34  50 ... 213  54  58]]\n"
     ]
    }
   ],
   "source": [
    "# Create a new array that consists of `A` elements modified according to the following rules:\n",
    "# - if the element is less than 50, then it is multiplied by 2;\n",
    "# - otherwise it is multiplied by 3.\n",
    "# Use [np.where()](https://numpy.org/doc/stable/reference/generated/numpy.where.html ).\n",
    "\n",
    "A = np.random.randint(0, 100, size=(200, 50))\n",
    "B = np.where(A < 50, A * 2, A * 3)\n",
    "print(B)\n"
   ]
  },
  {
   "cell_type": "markdown",
   "metadata": {},
   "source": [
    "# Задание 2.13 (7 баллов)\n",
    "\n",
    "Разверните массив `A` в одномерный массив. Создайте три новых массива, подсчитав скользящие средние по окнам $3$, $5$, $10$. Найдите сумму этих массивов, выровнив из размерности нулями справа\n",
    "\n",
    "*Tip: реализуйте функцию, которая считает скользящее среднее. Используйте [np.cumsum()](https://numpy.org/doc/stable/reference/generated/numpy.cumsum.html) или [np.convolve()](https://numpy.org/doc/stable/reference/generated/numpy.convolve.html)*"
   ]
  },
  {
   "cell_type": "code",
   "execution_count": 42,
   "metadata": {},
   "outputs": [
    {
     "name": "stdout",
     "output_type": "stream",
     "text": [
      "(30294,)\n",
      "[81.66666667 88.         87.66666667 ...  0.          0.\n",
      "  0.        ]\n",
      "497310.6666666666\n",
      "497225.8\n",
      "497051.5\n"
     ]
    }
   ],
   "source": [
    "# Expand the array `A` into a one-dimensional array. Create three new arrays by calculating the moving averages of the windows 3, 5, 10. \n",
    "# Find the sum of these arrays by aligning from the dimension with zeros on the right.\n",
    "# *Tip: Implement a function that counts the moving average. Use [np.cumsum()](https://numpy.org/doc/stable/reference/generated/numpy.cumsum.html ) or [np.convolve()](https://numpy.org/doc/stable/reference/generated/numpy.convolve.html )*.\n",
    "\n",
    "def moving_average(a, n=3) :\n",
    "    ret = np.cumsum(a, dtype=float)\n",
    "    ret[n:] = ret[n:] - ret[:-n]\n",
    "    return ret[n - 1:] / n\n",
    "\n",
    "A = np.random.randint(0, 100, size=(200, 50))\n",
    "B = np.concatenate((A, np.zeros((2, 50))), axis=0)\n",
    "C = moving_average(B, 3)\n",
    "D = moving_average(B, 5)\n",
    "E = moving_average(B, 10)\n",
    "D = np.pad(D, ((0,  C.shape[0] - D.shape[0])), 'constant')\n",
    "E = np.pad(E, ((0,  C.shape[0] - E.shape[0])), 'constant')\n",
    "H = np.concatenate((C, D, E))\n",
    "# One-dimensional array\n",
    "print(H.shape)\n",
    "print(H)\n",
    "# Moving averages\n",
    "print(C.sum(axis=0))\n",
    "print(D.sum(axis=0))\n",
    "print(E.sum(axis=0))\n",
    "\n",
    "\n"
   ]
  },
  {
   "cell_type": "markdown",
   "metadata": {},
   "source": [
    "# Задание 2.14 (8 баллов)\n",
    "\n",
    "Постройте график функции $$f(x) = (5  \\sin(2x) - \\cos^2(x) - 1 + |x^3| - x^2) / (x^2 + 1)$$  \n",
    "\n",
    "и производной от этой функции.  Найдите минимум с помощью `scipy` и обозначьте его на графике. На этой же оси постройте графики скользящего среднего этой функции с окном $1$, $2$, $5$."
   ]
  },
  {
   "cell_type": "code",
   "execution_count": 66,
   "metadata": {},
   "outputs": [
    {
     "name": "stdout",
     "output_type": "stream",
     "text": [
      "Optimization terminated successfully.\n",
      "         Current function value: -4.882074\n",
      "         Iterations: 23\n",
      "         Function evaluations: 46\n"
     ]
    },
    {
     "data": {
      "image/png": "[encoded data removed]",
      "text/plain": [
       "<Figure size 640x480 with 1 Axes>"
      ]
     },
     "metadata": {},
     "output_type": "display_data"
    }
   ],
   "source": [
    "# Plot a function graph and derivitive  of the function `f(x) = (5sin(2x)- cos^2(x)-1 + |x^3| -x^2)/ (x^2+1)` on the interval [-10, 10].\n",
    "# Find the minimum withe help of scipy and plot it on the graph. On the same axis, plot the moving average of this function with a window of 1,2,5 elements.\n",
    "# *Tip: Use [np.cumsum()](https://numpy.org/doc/stable/reference/generated/numpy.cumsum.html ) to calculate the moving averages.*\n",
    "\n",
    "import matplotlib.pyplot as plt\n",
    "from scipy.optimize import fmin\n",
    "from scipy.misc import derivative\n",
    "\n",
    "# function\n",
    "def f(x):\n",
    "    return (5 * np.sin(2 * x) - np.cos(x) ** 2 - 1 + np.abs(x ** 3) - x ** 2) / (x ** 2 + 1)\n",
    "\n",
    "x = np.arange(-10, 10, 0.1)\n",
    "y = f(x)\n",
    "# derivative\n",
    "diff = derivative(f, x, dx=1e-6)\n",
    "function_min = fmin(f, np.array([0]))\n",
    "# moving averages\n",
    "func_one = moving_average(y, 1)\n",
    "func_two = moving_average(y, 2)\n",
    "func_five = moving_average(y, 5)\n",
    "\n",
    "figure, sub_plt = plt.subplots()\n",
    "#subplots\n",
    "sub_plt.plot(x, y, label='f(x)', color='red', linewidth=2, linestyle='--', marker='o', markersize=2)\n",
    "sub_plt.plot(x, diff, label='f\\'(x)', color='blue', linewidth=2, linestyle='--', marker='o', markersize=2)\n",
    "sub_plt.plot(x, func_one, label='moving average 1', color='black', linewidth=2, linestyle='--', marker='o', markersize=2)\n",
    "sub_plt.plot(x[1:], func_two, label='moving average 2', color='yellow', linewidth=2, linestyle='--', marker='o', markersize=2)\n",
    "sub_plt.plot(x[4:], func_five, label='moving average 5', color='orange', linewidth=2, linestyle='--', marker='o', markersize=2)\n",
    "sub_plt.plot(function_min, f(function_min), label='min', color='green', linewidth=2, linestyle='--', marker='o', markersize=2)\n",
    "\n",
    "plt.show()\n"
   ]
  },
  {
   "cell_type": "markdown",
   "metadata": {},
   "source": [
    "# Задание 2.15 (10 баллов)\n",
    "\n",
    "Есть следующий алгоритм семплинирования, на вход функции подается вектор из целых положительных чисел и число семплов."
   ]
  },
  {
   "cell_type": "code",
   "execution_count": 15,
   "metadata": {},
   "outputs": [
    {
     "data": {
      "text/plain": [
       "[0, 0, 0, 4, 0]"
      ]
     },
     "execution_count": 15,
     "metadata": {},
     "output_type": "execute_result"
    }
   ],
   "source": [
    "from typing import List \n",
    "\n",
    "def sample(x: List[int], c: int) -> List[int]:\n",
    "    assert len(x) > 0\n",
    "    \n",
    "    s = np.sum(x)\n",
    "    res = []\n",
    "    for _ in range(c):\n",
    "        val = s * np.random.random()\n",
    "        cur, idx = 0, 0        \n",
    "        while cur + x[idx] <= val:\n",
    "            cur += x[idx]\n",
    "            idx += 1\n",
    "            \n",
    "        res.append(idx)\n",
    "    return res\n",
    "\n",
    "            \n",
    "sample([50, 3, 1, 7, 20], 5)  \n",
    "\n"
   ]
  },
  {
   "cell_type": "markdown",
   "metadata": {},
   "source": [
    "Реализуйте данный алгоритм более оптимальным способом на массивах `numpy`, без использования циклов. Проверьте корректность и идентичность алгоритмов семплирования с помощью статистических тестов."
   ]
  },
  {
   "cell_type": "code",
   "execution_count": 67,
   "metadata": {},
   "outputs": [
    {
     "data": {
      "text/plain": [
       "array([0, 0, 0, 4, 4])"
      ]
     },
     "execution_count": 67,
     "metadata": {},
     "output_type": "execute_result"
    }
   ],
   "source": [
    "# Implement this algorithm in a more optimal way on `numpy` arrays, without using loops. Check the correctness and identity of sampling algorithms using statistical tests.\n",
    "def sample(x: np.ndarray, c: int) -> np.ndarray:\n",
    "    assert len(x) > 0\n",
    "    \n",
    "    s = np.sum(x)\n",
    "    val = s * np.random.random(size=c)\n",
    "    idx = np.searchsorted(np.cumsum(x), val)\n",
    "    return idx\n",
    "\n",
    "# test\n",
    "sample(np.array([50, 3, 1, 7, 20]), 5)\n"
   ]
  },
  {
   "cell_type": "markdown",
   "metadata": {},
   "source": [
    "# Задание 2.16 (5 баллов)\n",
    "\n",
    "Есть следующий алгоритм \"случайного блуждания\""
   ]
  },
  {
   "cell_type": "code",
   "execution_count": 17,
   "metadata": {},
   "outputs": [
    {
     "data": {
      "text/plain": [
       "6.566293865999967"
      ]
     },
     "execution_count": 17,
     "metadata": {},
     "output_type": "execute_result"
    }
   ],
   "source": [
    "import random\n",
    "import timeit \n",
    "\n",
    "def walk(n: int):\n",
    "    cur_position = 0\n",
    "    for i in range(n):\n",
    "        cur_position += random.choice([-3, -1, 0, 2, 3])\n",
    "\n",
    "    return cur_position\n",
    "\n",
    "walk(10_000)\n",
    "# compare performance (using,`time it').\n",
    "timeit.timeit('walk(10_000)', globals=globals(), number=1000)"
   ]
  },
  {
   "cell_type": "markdown",
   "metadata": {},
   "source": [
    "Реализуйте более эффективную версию с помощью `numpy`, сравните производительность (используя, например, magic `timeit`). Воспользовавшись [kdeplot()](https://seaborn.pydata.org/generated/seaborn.kdeplot.html) или аналогами, постройте график распределения значений `walk(10_000)` на каком-то разумном числе запусков. "
   ]
  },
  {
   "cell_type": "code",
   "execution_count": 74,
   "metadata": {},
   "outputs": [
    {
     "name": "stdout",
     "output_type": "stream",
     "text": [
      "\n",
      "\n"
     ]
    },
    {
     "data": {
      "image/png": "[encoded data removed]",
      "text/plain": [
       "<Figure size 640x480 with 1 Axes>"
      ]
     },
     "metadata": {},
     "output_type": "display_data"
    }
   ],
   "source": [
    "\n",
    "# Implement a more efficient version using `numpy`, compare performance (using, for example, magic `time it'). Using [kdeplot()](https://seaborn.pydata.org/generated/seaborn .kdeplot.html ) \n",
    "# or analogs, plot the distribution of the values of `walk(10_000)` on some reasonable number of launches.\n",
    "import seaborn as sns\n",
    "import matplotlib.pyplot as plt\n",
    "\n",
    "def walk(n: int):\n",
    "    return np.random.choice([-3, -1, 0, 2, 3], size=n).sum()\n",
    "\n",
    "walk(10_000)\n",
    "# compare performance (using,`time it').\n",
    "timeit.timeit('walk(10_000)', globals=globals(), number=1000)\n",
    "\n",
    "#new line\n",
    "print(\"\\n\")\n",
    "\n",
    "# plot\n",
    "sns.kdeplot([walk(10_000) for _ in range(1000)], fill=True, alpha=0.5)\n",
    "plt.show()\n",
    "\n",
    "\n",
    "\n"
   ]
  },
  {
   "cell_type": "markdown",
   "metadata": {},
   "source": [
    "# Задание 2.17 (5 баллов)\n",
    "\n",
    "Имеется функция, которая проделывает достаточно странные манипуляции с массивом `numpy`"
   ]
  },
  {
   "cell_type": "code",
   "execution_count": 19,
   "metadata": {},
   "outputs": [
    {
     "data": {
      "text/plain": [
       "0.26554741150677685"
      ]
     },
     "execution_count": 19,
     "metadata": {},
     "output_type": "execute_result"
    }
   ],
   "source": [
    "import numpy.typing as npt\n",
    "\n",
    "def strange_conv(a: npt.NDArray[np.float64]) -> np.float64:\n",
    "    x = a.shape[0]\n",
    "    y = a.shape[1]\n",
    "\n",
    "    t = 1.\n",
    "    for y in range(y - 5):\n",
    "        for x in range(x - 3):\n",
    "            c = 1.5 * a[y+1, x+2] - a[y+5, x+3] * a[y, x] + 0.2 * a[y+4, x]\n",
    "            t = 0.2 * t + 0.8 * c\n",
    "\n",
    "    return t\n",
    "\n",
    "\n",
    "a = np.random.random((10000, 10000))\n",
    "strange_conv(a)\n",
    "\n",
    "# optimize function strange_conv using `Cython` and compare performance (using, for example, magic `time it').\n",
    "\n",
    "\n",
    "\n",
    "\n"
   ]
  },
  {
   "cell_type": "markdown",
   "metadata": {},
   "source": [
    "Оптимизируйте данную функцию с помощью (2 на выбор):\n",
    "- [Numba](https://numba.pydata.org)\n",
    "- `Cython` (+5 баллов)\n",
    "- [Taichi](https://github.com/taichi-dev/taichi) (+5 баллов)\n",
    "- `Pythran `[[1]](https://pythran.readthedocs.io/en/latest/), [[2]](https://serge-sans-paille.github.io/pythran-stories/pythran-tutorial.html) (+2 балла)\n",
    "\n",
    "Сравните производительность."
   ]
  },
  {
   "cell_type": "code",
   "execution_count": 87,
   "metadata": {},
   "outputs": [
    {
     "data": {
      "image/png": "[encoded data removed]",
      "text/latex": [
       "$\\displaystyle 0.537478888431316$"
      ],
      "text/plain": [
       "0.5374788884313164"
      ]
     },
     "execution_count": 87,
     "metadata": {},
     "output_type": "execute_result"
    }
   ],
   "source": [
    "\n",
    "# optimize function strange_conv using `Numba` and compare performance (using, for example, magic `time it').\n",
    "import numba as nb\n",
    "import numpy as np \n",
    "import numpy.typing as npt\n",
    "import timeit\n",
    "\n",
    "@nb.njit\n",
    "def strange_conv(a: npt.NDArray[np.float64]) -> np.float64:\n",
    "    x = a.shape[0]\n",
    "    y = a.shape[1]\n",
    "\n",
    "    t = 1.\n",
    "    for y in range(y - 5):\n",
    "        for x in range(x - 3):\n",
    "            c = 1.5 * a[y+1, x+2] - a[y+5, x+3] * a[y, x] + 0.2 * a[y+4, x]\n",
    "            t = 0.2 * t + 0.8 * c\n",
    "\n",
    "    return t\n",
    "\n",
    "a = np.random.random((10000, 10000))\n",
    "strange_conv(a) "
   ]
  },
  {
   "cell_type": "code",
   "execution_count": 117,
   "metadata": {},
   "outputs": [
    {
     "name": "stdout",
     "output_type": "stream",
     "text": [
      "The Cython extension is already loaded. To reload it, use:\n",
      "  %reload_ext Cython\n"
     ]
    }
   ],
   "source": [
    "%load_ext Cython"
   ]
  },
  {
   "cell_type": "code",
   "execution_count": 1,
   "metadata": {},
   "outputs": [
    {
     "name": "stderr",
     "output_type": "stream",
     "text": [
      "UsageError: Line magic function `%%cython` not found.\n"
     ]
    }
   ],
   "source": [
    "# optimize function strange_conv using `Cython and compare performance (using, for example, magic `time it').\n",
    "\n",
    "%%cython \n",
    "\n",
    "import timeit\n",
    "import numpy as np\n",
    "import numpy.typing as npt\n",
    "import cython\n",
    "\n",
    "@cython.boundscheck(False)\n",
    "@cython.wraparound(False)\n",
    "def strange_conv(a: npt.NDArray[np.float64]) -> np.float64:\n",
    "    x = a.shape[0]\n",
    "    y = a.shape[1]\n",
    "\n",
    "    t = 1.\n",
    "    for y in range(y - 5):\n",
    "        for x in range(x - 3):\n",
    "            c = 1.5 * a[y+1, x+2] - a[y+5, x+3] * a[y, x] + 0.2 * a[y+4, x]\n",
    "            t = 0.2 * t + 0.8 * c\n",
    "\n",
    "    return t\n",
    "\n",
    "# compare performance (using,`time it').    \n",
    "\n",
    "a = np.random.random((10000, 10000))\n",
    "strange_conv(a)\n",
    "\n"
   ]
  }
 ],
 "metadata": {
  "kernelspec": {
   "display_name": "Python 3.10.6 64-bit",
   "language": "python",
   "name": "python3"
  },
  "language_info": {
   "codemirror_mode": {
    "name": "ipython",
    "version": 3
   },
   "file_extension": ".py",
   "mimetype": "text/x-python",
   "name": "python",
   "nbconvert_exporter": "python",
   "pygments_lexer": "ipython3",
   "version": "3.10.6"
  },
  "orig_nbformat": 4,
  "vscode": {
   "interpreter": {
    "hash": "916dbcbb3f70747c44a77c7bcd40155683ae19c65e1c03b4aa3499c5328201f1"
   }
  }
 },
 "nbformat": 4,
 "nbformat_minor": 2
}
