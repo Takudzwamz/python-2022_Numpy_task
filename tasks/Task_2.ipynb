{
 "cells": [
  {
   "cell_type": "markdown",
   "metadata": {},
   "source": [
    "# Задание 2.\n",
    "\n",
    "**NB. Все упражнения ниже нужно делать без использования циклов Python в явном (`while`, `for`) и неявном виде (list comprehension, `map`, `reduce` и пр)**\n",
    "\n",
    "Задания по манипуляциям с массивами чаще всего решаются в одно/два выражения. "
   ]
  },
  {
   "cell_type": "code",
   "execution_count": 2,
   "metadata": {},
   "outputs": [
    {
     "data": {
      "text/plain": [
       "array([[64,  0, 30, ..., 34, 18, 51],\n",
       "       [62, 81, 33, ...,  7, 73, 43],\n",
       "       [62,  1, 31, ..., 81, 15, 93],\n",
       "       ...,\n",
       "       [78, 59, 59, ..., 90, 64, 14],\n",
       "       [37, 40,  7, ..., 98, 38, 98],\n",
       "       [97, 33, 89, ..., 12, 63, 63]])"
      ]
     },
     "execution_count": 2,
     "metadata": {},
     "output_type": "execute_result"
    }
   ],
   "source": [
    "%matplotlib inline\n",
    "\n",
    "import numpy as np\n",
    "import matplotlib.pyplot as plt\n",
    "import seaborn as sns\n",
    "sns.set_theme()\n",
    "\n",
    "A = np.random.randint(0, 100, size=(200, 50))\n",
    "A"
   ]
  },
  {
   "cell_type": "markdown",
   "metadata": {},
   "source": [
    "# Задание 2.1 (2 балла)\n",
    "\n",
    "Сгенерируйте новый массив, в котором столбцы массива `A` переставлены в случайном порядке"
   ]
  },
  {
   "cell_type": "code",
   "execution_count": 16,
   "metadata": {},
   "outputs": [
    {
     "name": "stdout",
     "output_type": "stream",
     "text": [
      "[[72 91 59 ... 30 87  2]\n",
      " [89 77 81 ... 27 34 17]\n",
      " [70 20  0 ... 56  6 18]\n",
      " ...\n",
      " [66 56  8 ... 15 99  7]\n",
      " [ 1  0 73 ... 80 23 34]\n",
      " [36 59  5 ... 69 32  2]]\n"
     ]
    }
   ],
   "source": [
    "#Сгенерируйте новый массив, в котором столбцы массива `A` переставлены в случайном порядке.\n",
    "\n",
    "A = np.random.randint(0, 100, size=(200, 50))\n",
    "np.random.shuffle(A.T)\n",
    "print(A)"
   ]
  },
  {
   "cell_type": "markdown",
   "metadata": {},
   "source": [
    "# Задание 2.2 (5 баллов)\n",
    "\n",
    "Сгенерируйте новый массив, который содержит только те строки массива `A`, в которых: \n",
    "- сумма элементов по четным столбцам (индексы $0, 2, \\ldots$) больше среднего значения (по всему массиву) суммы элементов по нечетным столбцам (индексы $1, 3, \\ldots$) "
   ]
  },
  {
   "cell_type": "code",
   "execution_count": 23,
   "metadata": {},
   "outputs": [
    {
     "name": "stdout",
     "output_type": "stream",
     "text": [
      "[[72  8 94 ...  2 65 12]\n",
      " [94 93 87 ... 81 85 74]\n",
      " [33 68 48 ... 48 23 50]\n",
      " ...\n",
      " [79 14 41 ... 49 12 61]\n",
      " [66 75  1 ... 46 49 70]\n",
      " [50 23 87 ... 95 17 29]]\n"
     ]
    }
   ],
   "source": [
    "#Generate a new array that contains only those rows of array `A` in which:\n",
    "# - the sum of elements in even columns (indexes 0, 2,...) is greater than the average value (across the entire array) of the sum of elements in odd columns (indexes 1, 3,...).\n",
    "\n",
    "A = np.random.randint(0, 100, size=(200, 50))\n",
    "B = A[:, ::2]\n",
    "C = A[:, 1::2]\n",
    "D = B.sum(axis=1) > C.sum(axis=1).mean()\n",
    "print(A[D])\n",
    "\n",
    "\n"
   ]
  },
  {
   "cell_type": "markdown",
   "metadata": {},
   "source": [
    "# Задача 2.3 (3 балла)\n",
    "\n",
    "Найдите индекс строки массива `A`, в которой разница между максимальным и минимальным элементом максимальна"
   ]
  },
  {
   "cell_type": "code",
   "execution_count": 24,
   "metadata": {},
   "outputs": [
    {
     "name": "stdout",
     "output_type": "stream",
     "text": [
      "15\n"
     ]
    }
   ],
   "source": [
    "# Find the index of the array string `A` in which the difference between the maximum and minimum element is maximal.\n",
    "\n",
    "A = np.random.randint(0, 100, size=(200, 50))\n",
    "B = A.max(axis=1) - A.min(axis=1)\n",
    "print(B.argmax())\n"
   ]
  },
  {
   "cell_type": "markdown",
   "metadata": {},
   "source": [
    "# Задание 2.4 (7 баллов)\n",
    "\n",
    "Сгенерируйте массив той же размерности, что и `A`, но в котором каждый элемент заменен на его порядковый номер (начиная с 1) в отсортированном по возрастанию массиве из элементов `A`\n",
    "\n",
    "Если `A` выглядит так:\n",
    "$$\n",
    "\\begin{pmatrix}\n",
    "12 & 14\\\\\n",
    "1 & 2\n",
    "\\end{pmatrix}\n",
    "$$\n",
    "то результат должен быть\n",
    "$$\n",
    "\\begin{pmatrix}\n",
    "3 & 4\\\\\n",
    "1 & 2\n",
    "\\end{pmatrix}\n",
    "$$\n",
    "\n",
    "*Tip: рассмотрите возможность неоднократного применения [argsort()](https://numpy.org/doc/stable/reference/generated/numpy.ndarray.argsort.html)*"
   ]
  },
  {
   "cell_type": "code",
   "execution_count": 37,
   "metadata": {},
   "outputs": [
    {
     "name": "stdout",
     "output_type": "stream",
     "text": [
      "[[   0   81   80 ...   91   90   89]\n",
      " [  88   87   86 ...   51   39   38]\n",
      " [  37   36   35 ...  196  195  194]\n",
      " ...\n",
      " [9811 9810 9809 ... 9967 9959 9964]\n",
      " [9958 9948 9956 ... 9911 9910 9909]\n",
      " [9908 9907 9906 ... 9917 9929 9999]]\n",
      "[[13 98 35 ... 83 93 70]\n",
      " [ 7 17  7 ... 87  1 84]\n",
      " [73 26 44 ...  7 56 57]\n",
      " ...\n",
      " [95  2 19 ... 68 71 18]\n",
      " [24 60 15 ... 17 52 59]\n",
      " [14 34 20 ... 28 76 32]]\n"
     ]
    }
   ],
   "source": [
    "# Generate an array of the same dimension as `A`, but in which each element is replaced by its ordinal number (starting from 1) in an ascending array of `A` elements.\n",
    "\n",
    "A = np.random.randint(0, 100, size=(200, 50))\n",
    "B = np.sort(A, axis=None)\n",
    "C = np.argsort(B)\n",
    "print(C.reshape(A.shape))\n",
    "print(A)\n",
    "\n"
   ]
  },
  {
   "cell_type": "markdown",
   "metadata": {},
   "source": [
    "# Задание 2.5 (2 балла)\n",
    "\n",
    "Примените $\\min-\\max$ - нормализацию к строкам массива `A`. То есть нужно получить новый массивы, в каждой строке которого максимальный элементы равен $1$, минимальный - $0$. "
   ]
  },
  {
   "cell_type": "code",
   "execution_count": 38,
   "metadata": {},
   "outputs": [
    {
     "name": "stdout",
     "output_type": "stream",
     "text": [
      "[[0.05102041 0.29591837 0.12244898 ... 0.60204082 0.56122449 0.98979592]\n",
      " [0.90721649 0.21649485 0.96907216 ... 0.57731959 0.24742268 0.90721649]\n",
      " [0.76666667 0.23333333 0.         ... 0.25555556 0.77777778 0.01111111]\n",
      " ...\n",
      " [0.         0.8172043  0.25806452 ... 0.34408602 0.90322581 0.61290323]\n",
      " [0.4742268  0.09278351 0.55670103 ... 0.54639175 0.60824742 0.11340206]\n",
      " [0.33333333 0.         0.29292929 ... 0.74747475 0.06060606 0.11111111]]\n"
     ]
    }
   ],
   "source": [
    "# Apply min-max normalization to the rows of array `A'. \n",
    "# That is, you need to get a new array, in each row of which the maximum element is 1, the minimum is 0.\n",
    "\n",
    "A = np.random.randint(0, 100, size=(200, 50))\n",
    "B = A.max(axis=1)\n",
    "C = A.min(axis=1)\n",
    "D = (A - C[:, np.newaxis]) / (B - C)[:, np.newaxis]\n",
    "print(D)\n"
   ]
  },
  {
   "cell_type": "markdown",
   "metadata": {},
   "source": [
    "# Задание 2.6 (2 балла)\n",
    "\n",
    "Сгенерируйте новый трехмерный массив, размерности $10 \\times 200 \\times 50$. Подмассивы по нулевой оси должны состоять из элементов `A`, умноженных на $1 - 10$ соответственно"
   ]
  },
  {
   "cell_type": "code",
   "execution_count": 39,
   "metadata": {},
   "outputs": [
    {
     "name": "stdout",
     "output_type": "stream",
     "text": [
      "(10, 200, 50)\n",
      "[[[ 76  18  66 ...  55   2  50]\n",
      "  [  2  83  21 ...  87  70   3]\n",
      "  [ 51  14  85 ...  18   1  88]\n",
      "  ...\n",
      "  [  5  22  58 ...  58  16  82]\n",
      "  [ 23  67  24 ...  79  74   1]\n",
      "  [ 65  27  87 ...  10  60  12]]\n",
      "\n",
      " [[152  36 132 ... 110   4 100]\n",
      "  [  4 166  42 ... 174 140   6]\n",
      "  [102  28 170 ...  36   2 176]\n",
      "  ...\n",
      "  [ 10  44 116 ... 116  32 164]\n",
      "  [ 46 134  48 ... 158 148   2]\n",
      "  [130  54 174 ...  20 120  24]]\n",
      "\n",
      " [[228  54 198 ... 165   6 150]\n",
      "  [  6 249  63 ... 261 210   9]\n",
      "  [153  42 255 ...  54   3 264]\n",
      "  ...\n",
      "  [ 15  66 174 ... 174  48 246]\n",
      "  [ 69 201  72 ... 237 222   3]\n",
      "  [195  81 261 ...  30 180  36]]\n",
      "\n",
      " ...\n",
      "\n",
      " [[608 144 528 ... 440  16 400]\n",
      "  [ 16 664 168 ... 696 560  24]\n",
      "  [408 112 680 ... 144   8 704]\n",
      "  ...\n",
      "  [ 40 176 464 ... 464 128 656]\n",
      "  [184 536 192 ... 632 592   8]\n",
      "  [520 216 696 ...  80 480  96]]\n",
      "\n",
      " [[684 162 594 ... 495  18 450]\n",
      "  [ 18 747 189 ... 783 630  27]\n",
      "  [459 126 765 ... 162   9 792]\n",
      "  ...\n",
      "  [ 45 198 522 ... 522 144 738]\n",
      "  [207 603 216 ... 711 666   9]\n",
      "  [585 243 783 ...  90 540 108]]\n",
      "\n",
      " [[760 180 660 ... 550  20 500]\n",
      "  [ 20 830 210 ... 870 700  30]\n",
      "  [510 140 850 ... 180  10 880]\n",
      "  ...\n",
      "  [ 50 220 580 ... 580 160 820]\n",
      "  [230 670 240 ... 790 740  10]\n",
      "  [650 270 870 ... 100 600 120]]]\n"
     ]
    }
   ],
   "source": [
    "# Generate a new three-dimensional array of dimensions 10x200x50. The subarrays along the zero axis should consist of elements `A` multiplied by 1 - 10, respectively.\n",
    "\n",
    "A = np.random.randint(0, 100, size=(200, 50))\n",
    "B = np.arange(1, 11)\n",
    "C = A * B[:, np.newaxis, np.newaxis]\n",
    "print(C.shape)\n",
    "print(C)\n"
   ]
  },
  {
   "cell_type": "markdown",
   "metadata": {},
   "source": [
    "# Задание 2.7 (2 балла)\n",
    "\n",
    "Создайте новый массив, такой же размерности, как и `A`, в котором сначала сгруппированы четные столбцы `A`, потом  нечетные. Используйте [np.concat()](https://numpy.org/doc/stable/reference/generated/numpy.concatenate.html) "
   ]
  },
  {
   "cell_type": "code",
   "execution_count": 40,
   "metadata": {},
   "outputs": [
    {
     "name": "stdout",
     "output_type": "stream",
     "text": [
      "[[65 35 22 ... 48 48 92]\n",
      " [83 74 65 ... 50  5 72]\n",
      " [91 62 11 ... 51 75 74]\n",
      " ...\n",
      " [54 39 48 ... 38 12 37]\n",
      " [31 79 40 ... 72 30 56]\n",
      " [49 37 28 ... 12 69 30]]\n"
     ]
    }
   ],
   "source": [
    "# Create a new array of the same dimension as `A`, in which the even columns of `A` are grouped first, then the odd ones. Use [np.concat()] (https://numpy.org/doc/stable/reference/generated/numpy.concatenate.html).\n",
    "\n",
    "A = np.random.randint(0, 100, size=(200, 50))\n",
    "B = A[:, ::2]\n",
    "C = A[:, 1::2]\n",
    "D = np.concatenate((B, C), axis=1)\n",
    "print(D)\n"
   ]
  },
  {
   "cell_type": "markdown",
   "metadata": {},
   "source": [
    "# Задание 2.8 (2 балла)\n",
    "\n",
    "Посчитайте количество строк массива `A`, в который все элементы больше 5. Используйте [np.all()](https://numpy.org/doc/stable/reference/generated/numpy.all.html) "
   ]
  },
  {
   "cell_type": "code",
   "execution_count": 41,
   "metadata": {},
   "outputs": [
    {
     "name": "stdout",
     "output_type": "stream",
     "text": [
      "7\n"
     ]
    }
   ],
   "source": [
    "# Count the number of rows of the array `A`, in which all elements are greater than 5. Use [np.all()](https://numpy.org/doc/stable/reference/generated/numpy.all.html ).\n",
    "\n",
    "A = np.random.randint(0, 100, size=(200, 50))\n",
    "B = A > 5\n",
    "C = np.all(B, axis=1)\n",
    "print(C.sum())\n",
    "\n"
   ]
  },
  {
   "cell_type": "markdown",
   "metadata": {},
   "source": [
    "# Задание 2.9 (2 балла)\n",
    "\n",
    "Поделите массив `A` горизонтально на 10 частей и создайте новый массив размерности $20 \\times 50$, который является средним этих частей. Используйте [np.split()](https://numpy.org/doc/stable/reference/generated/numpy.split.html)"
   ]
  },
  {
   "cell_type": "code",
   "execution_count": 42,
   "metadata": {},
   "outputs": [
    {
     "name": "stdout",
     "output_type": "stream",
     "text": [
      "(20, 50)\n",
      "[[52.4 50.3 46.1 23.8 34.3 58.7 44.  43.2 53.  61.3 50.  51.5 41.4 55.\n",
      "  58.1 63.5 43.8 55.2 39.6 58.4 45.6 49.4 51.9 40.2 52.7 42.5 60.7 25.\n",
      "  43.6 56.7 48.5 42.1 51.  44.1 44.4 44.4 52.8 43.8 57.5 53.2 63.7 60.3\n",
      "  42.7 58.1 43.3 51.1 57.4 52.8 66.  48.5]\n",
      " [51.4 42.9 52.5 65.9 55.5 57.4 30.7 44.3 36.3 56.6 50.5 53.7 46.3 34.1\n",
      "  52.7 49.5 43.1 61.3 54.4 39.6 28.5 51.5 39.5 30.3 61.1 41.7 51.2 45.3\n",
      "  53.  33.1 19.9 47.4 50.4 46.1 55.2 34.3 55.3 55.3 59.2 30.7 58.9 57.1\n",
      "  48.5 49.8 53.3 38.4 50.9 53.5 35.9 46.8]\n",
      " [40.  37.6 55.1 46.  32.6 46.4 54.2 44.9 48.6 64.3 38.5 52.7 58.8 47.7\n",
      "  43.5 49.5 47.6 53.5 54.1 47.8 44.3 49.4 39.3 37.9 55.5 58.3 53.1 44.4\n",
      "  55.4 55.5 40.3 45.1 43.6 43.5 51.1 46.8 60.6 46.3 54.4 54.4 48.7 32.9\n",
      "  58.4 45.3 43.2 40.7 43.2 62.6 54.1 45.7]\n",
      " [51.8 46.6 27.4 49.2 51.1 55.  54.9 45.7 56.  42.6 38.7 63.  48.1 44.7\n",
      "  49.5 50.  50.6 52.1 57.4 49.1 60.  42.8 59.6 64.2 54.5 27.9 63.1 50.1\n",
      "  33.5 50.9 42.4 41.  53.6 32.1 59.2 45.3 37.7 46.3 58.8 53.5 47.5 56.1\n",
      "  45.3 54.6 52.7 45.  34.3 56.3 39.2 51. ]\n",
      " [44.9 52.6 45.1 44.6 40.4 51.3 50.2 60.8 47.2 62.3 58.4 55.4 36.1 56.6\n",
      "  55.3 49.3 60.5 43.  58.5 46.4 63.  47.6 53.2 54.4 51.8 48.2 70.3 46.2\n",
      "  51.  54.4 52.6 51.5 59.3 51.6 56.8 38.2 30.3 45.4 60.2 62.  35.5 44.1\n",
      "  39.8 47.1 55.5 46.8 52.6 44.5 60.7 58.7]\n",
      " [46.  42.9 60.7 43.4 51.  61.5 58.6 39.6 47.5 45.7 41.3 46.7 42.3 36.4\n",
      "  40.1 66.6 53.5 48.9 43.9 49.6 44.8 38.8 40.1 56.6 47.7 59.4 59.1 48.7\n",
      "  52.4 51.4 50.7 51.9 46.8 54.4 44.6 57.6 58.5 44.9 37.5 59.9 50.1 54.6\n",
      "  49.8 55.2 48.9 52.1 38.1 45.9 48.7 61.1]\n",
      " [56.6 42.2 47.2 57.6 54.5 51.8 49.9 50.6 34.1 44.4 67.2 36.8 41.8 32.2\n",
      "  34.2 36.7 53.8 42.7 52.2 57.3 54.3 39.6 38.8 47.7 46.3 59.  39.1 48.7\n",
      "  52.8 38.1 47.1 65.1 47.  51.8 31.9 49.9 65.5 43.9 45.7 44.6 63.3 46.4\n",
      "  46.  57.7 38.1 40.7 56.9 46.  49.  44.1]\n",
      " [37.9 39.8 45.9 65.5 43.8 64.4 50.5 49.1 46.  48.1 40.  52.4 44.9 49.1\n",
      "  64.2 57.6 45.5 42.  43.9 54.9 54.1 59.6 49.1 59.5 59.3 49.9 52.4 41.3\n",
      "  53.9 59.4 68.3 43.9 58.5 45.1 48.  38.2 45.7 57.5 64.4 51.7 64.2 45.8\n",
      "  60.7 48.9 53.7 57.3 41.6 37.5 43.8 44.3]\n",
      " [44.2 58.1 65.5 59.2 35.7 43.5 34.3 61.  38.3 46.9 47.6 50.8 65.7 64.2\n",
      "  49.9 40.6 56.6 50.7 48.1 42.8 45.6 43.7 42.8 48.1 35.9 45.8 59.1 64.4\n",
      "  42.1 40.8 64.6 63.1 46.2 65.  61.2 45.6 58.7 45.7 54.5 56.8 42.4 51.7\n",
      "  46.4 60.8 51.  63.2 48.7 40.5 42.8 38.6]\n",
      " [44.9 36.4 36.  54.9 52.2 55.  61.8 50.4 51.  46.1 37.5 62.3 62.4 34.1\n",
      "  45.9 42.4 53.  42.5 41.3 35.4 63.9 27.9 41.1 52.1 50.6 44.5 42.9 69.8\n",
      "  51.  39.7 46.6 54.1 35.4 60.8 49.4 61.1 64.9 55.4 54.3 64.  57.7 54.3\n",
      "  49.3 36.  60.5 47.7 39.1 47.  38.7 55.9]\n",
      " [50.8 55.2 32.  44.2 29.7 56.7 43.5 79.4 48.8 42.8 35.7 46.5 55.  51.2\n",
      "  53.5 29.9 42.4 41.1 50.8 42.5 55.  46.  44.6 52.9 64.6 51.6 39.4 48.\n",
      "  57.  57.4 34.  60.9 70.2 54.4 59.2 43.5 48.1 59.3 34.  45.9 49.  43.7\n",
      "  57.6 42.2 61.1 48.6 49.1 70.  60.1 48.7]\n",
      " [53.1 53.  57.6 45.5 52.7 50.4 48.4 51.2 44.8 45.8 58.8 48.8 38.1 36.7\n",
      "  50.1 57.1 51.4 46.1 69.8 46.9 51.8 43.5 39.3 45.1 51.6 47.8 50.1 49.6\n",
      "  42.5 47.  54.6 66.5 65.4 38.4 51.  41.7 49.  45.6 57.9 59.  40.4 37.3\n",
      "  58.1 36.2 49.3 36.1 44.8 56.4 33.8 61. ]\n",
      " [56.7 37.7 53.9 36.5 40.7 52.7 52.1 53.8 50.4 59.2 52.5 38.4 52.3 52.\n",
      "  67.  44.1 52.5 39.3 64.  47.1 50.3 46.9 61.9 35.2 47.1 50.9 57.2 48.3\n",
      "  28.5 64.  50.2 54.7 36.9 38.  50.9 48.6 54.1 49.6 56.7 53.7 57.  48.9\n",
      "  50.2 43.4 46.8 51.8 56.3 42.4 39.3 31. ]\n",
      " [37.3 55.3 62.  44.7 55.6 48.6 30.6 46.7 40.3 34.3 39.3 66.2 41.9 45.6\n",
      "  38.5 60.5 42.9 57.9 52.8 37.6 63.1 56.8 55.5 46.7 56.5 48.8 42.7 42.9\n",
      "  53.  40.3 59.4 48.3 41.9 44.7 64.7 28.2 44.1 18.5 50.6 52.  60.2 41.4\n",
      "  64.7 44.2 63.3 50.9 45.4 42.8 44.9 66.9]\n",
      " [46.7 49.9 36.9 38.9 64.7 57.1 51.8 54.7 55.7 60.  44.1 66.3 60.3 51.2\n",
      "  53.4 30.4 41.4 60.1 57.8 32.6 55.5 48.1 48.3 43.8 26.9 55.1 42.4 54.5\n",
      "  49.2 44.  46.8 41.  56.5 49.6 44.7 62.6 40.3 41.  52.6 36.5 56.1 78.2\n",
      "  45.9 46.7 47.6 39.6 35.9 52.9 43.3 38.5]\n",
      " [63.1 68.2 47.9 49.7 50.2 44.9 47.  47.8 60.4 47.8 51.8 41.6 52.7 59.4\n",
      "  48.2 53.5 47.1 58.1 70.8 46.9 54.9 51.2 43.1 53.2 59.8 56.7 61.5 32.6\n",
      "  44.  48.5 46.6 42.7 44.3 47.5 44.5 38.6 54.2 38.5 55.4 59.5 63.1 52.2\n",
      "  40.9 58.1 63.1 56.2 63.1 36.  43.5 41.8]\n",
      " [58.  55.5 47.5 68.8 57.6 49.9 44.3 51.6 35.  45.3 45.9 62.8 52.1 43.7\n",
      "  32.1 38.3 42.  50.3 51.5 57.7 51.9 37.5 44.7 52.6 60.8 67.5 59.4 51.9\n",
      "  59.9 31.3 38.5 47.6 49.9 50.8 48.3 34.6 52.6 36.9 43.4 33.4 37.3 43.2\n",
      "  48.3 63.3 50.  54.1 38.8 43.3 51.7 51.1]\n",
      " [44.2 56.7 47.7 35.8 50.4 58.7 43.6 60.3 55.4 43.5 45.9 41.3 48.1 58.\n",
      "  57.9 65.1 54.5 51.7 34.8 57.7 38.4 44.1 55.1 48.1 34.4 58.5 56.9 50.3\n",
      "  43.1 55.7 24.2 59.3 42.2 61.9 43.5 53.7 24.6 52.5 62.6 52.7 65.8 48.6\n",
      "  45.7 59.8 54.4 43.9 27.7 42.4 56.3 51.4]\n",
      " [53.2 53.4 46.5 52.5 50.3 41.3 45.5 64.4 50.6 39.6 42.2 67.9 46.8 40.1\n",
      "  54.7 59.3 25.2 49.5 46.3 38.4 72.4 49.4 67.4 54.8 46.2 66.4 51.8 53.9\n",
      "  56.1 55.8 43.5 55.2 59.3 41.6 49.4 41.3 50.9 30.  41.6 53.1 49.4 56.4\n",
      "  57.3 44.  57.2 52.7 34.6 49.1 35.8 57.8]\n",
      " [60.3 41.2 53.2 41.4 38.8 52.  59.2 65.1 33.1 32.7 36.9 34.8 44.  54.4\n",
      "  37.4 45.3 60.1 60.3 63.2 61.2 68.3 46.7 63.7 39.9 39.8 58.4 45.  47.4\n",
      "  42.9 41.2 52.9 49.8 44.2 43.5 43.9 57.2 45.1 35.  62.6 59.7 53.8 38.6\n",
      "  45.8 36.2 56.7 59.6 32.5 63.9 46.7 62.3]]\n"
     ]
    }
   ],
   "source": [
    "# Divide the array `A` horizontally into 10 parts and create a new array of dimension 20x50, which is the average of these parts. Use [np.split()](https://numpy.org/doc/stable/reference/generated/numpy.split.html ).\n",
    "\n",
    "A = np.random.randint(0, 100, size=(200, 50))\n",
    "B = np.split(A, 10, axis=0)\n",
    "C = np.mean(B, axis=0)\n",
    "print(C.shape)\n",
    "print(C)\n",
    "\n"
   ]
  },
  {
   "cell_type": "markdown",
   "metadata": {},
   "source": [
    "# Задание 2.10 (4 балла)\n",
    "\n",
    "\"Разверните\" массив `A` в одномерный массив. Оставьте в нём только уникальные элементы в том же порядке, в котором они встречаются в массиве. Используйте [np.unique()](https://numpy.org/doc/stable/reference/generated/numpy.unique.html)"
   ]
  },
  {
   "cell_type": "code",
   "execution_count": 43,
   "metadata": {},
   "outputs": [
    {
     "name": "stdout",
     "output_type": "stream",
     "text": [
      "(100,)\n",
      "[ 0  1  2  3  4  5  6  7  8  9 10 11 12 13 14 15 16 17 18 19 20 21 22 23\n",
      " 24 25 26 27 28 29 30 31 32 33 34 35 36 37 38 39 40 41 42 43 44 45 46 47\n",
      " 48 49 50 51 52 53 54 55 56 57 58 59 60 61 62 63 64 65 66 67 68 69 70 71\n",
      " 72 73 74 75 76 77 78 79 80 81 82 83 84 85 86 87 88 89 90 91 92 93 94 95\n",
      " 96 97 98 99]\n"
     ]
    }
   ],
   "source": [
    "#\"Expand\" the array `A` into a one-dimensional array. Leave only the unique elements in it in the same order in which they occur in the array. Use [np.unique()](https://numpy.org/doc/stable/reference/generated/numpy.unique.html ).\n",
    "\n",
    "A = np.random.randint(0, 100, size=(200, 50))\n",
    "B = np.unique(A)\n",
    "print(B.shape)\n",
    "print(B)\n",
    "\n"
   ]
  },
  {
   "cell_type": "markdown",
   "metadata": {},
   "source": [
    "# Задание 2.11 (3 балла)\n",
    "\n",
    "Создайте одномерный массив размерности $200$, в котором каждый элемент - евклидово расстояние между соответствующей строкой `A` и \"средней\" строкой `A`"
   ]
  },
  {
   "cell_type": "code",
   "execution_count": 47,
   "metadata": {},
   "outputs": [
    {
     "name": "stdout",
     "output_type": "stream",
     "text": [
      "(200,)\n",
      "[221.49482838 182.54821007 186.80982041 186.85052582 204.82687568\n",
      " 194.85294198 189.69728253 212.59870414 221.88102443 183.13775962\n",
      " 192.12256244 200.55151209 204.40454741 192.47550234 217.44422043\n",
      " 187.73792638 177.69847777 212.00398345 224.21897556 199.10371418\n",
      " 188.38927517 190.22799216 191.28512488 186.48911228 204.5176985\n",
      " 221.91727963 208.68233993 208.20631355 208.39661466 205.75570223\n",
      " 216.35435979 210.18926947 220.43177856 214.99218358 203.6454247\n",
      " 205.87192378 202.50510858 213.5730999  208.90050024 209.74958641\n",
      " 195.3878681  199.53235076 179.6765121  210.58235681 186.44355446\n",
      " 192.20670904 217.58607262 200.26197592 201.66600854 198.86366938\n",
      " 187.92780263 218.19903529 190.84810452 193.65370898 196.71911193\n",
      " 204.06819693 204.95094291 198.91035418 195.1116834  207.41855992\n",
      " 217.76108238 193.84400687 219.08208279 222.14911434 210.4186755\n",
      " 196.14644784 210.83123345 181.76982423 212.2590375  177.3223026\n",
      " 209.60536491 200.21857806 208.72378638 225.94665078 192.25573854\n",
      " 216.03492542 194.84845137 192.0491057  203.10327176 198.05175839\n",
      " 195.42960114 203.38266642 211.70420166 208.48100393 208.42142164\n",
      " 202.73156883 209.61786422 202.31242918 202.60518009 190.1454417\n",
      " 196.61451879 201.55140535 192.86741301 199.84203512 182.85559603\n",
      " 203.7422612  199.34432272 194.50462462 214.30872357 195.04204419\n",
      " 188.4442862  210.08107721 197.35749036 209.52493646 199.59739227\n",
      " 181.04562685 199.6051828  216.09435208 198.26517344 184.55871423\n",
      " 223.80875541 204.04572772 186.01034649 210.83704371 208.30688659\n",
      " 229.20294283 227.60026142 199.33935638 209.32472143 193.04237618\n",
      " 187.18725651 190.20141692 199.12337633 185.91863543 221.66197013\n",
      " 189.70856333 211.96409838 207.6453202  222.73737675 211.14253243\n",
      " 202.15617478 241.70196317 177.69707088 206.40043362 211.35817704\n",
      " 182.34604191 216.84159887 226.65967661 202.61766705 182.17115304\n",
      " 195.68464171 212.38354221 183.17177457 216.42300941 200.69152698\n",
      " 219.5780704  210.18743778 215.83882644 209.55743604 195.03048223\n",
      " 208.39791026 193.81209715 221.79524116 205.65978946 196.62771676\n",
      " 193.76622255 225.21438453 208.13997454 194.595835   190.21456043\n",
      " 191.85978995 219.94537731 215.1981854  206.54006633 177.90185215\n",
      " 218.7180811  190.67065584 214.32006206 199.6791902  186.19277376\n",
      " 191.37084156 206.73850391 194.78649594 213.83500415 224.95703812\n",
      " 218.66727922 183.49084173 227.00332376 220.04506129 214.54623977\n",
      " 183.08978399 204.48647633 219.10387719 225.27074599 195.95568121\n",
      " 203.46198416 197.68800925 201.49612651 202.04541321 199.37782976\n",
      " 206.25440359 205.8733567  217.22810361 196.21888034 179.45840465\n",
      " 199.23802097 180.04729656 209.41026479 197.68317834 197.71408397]\n"
     ]
    }
   ],
   "source": [
    "# Create a one-dimensional array of dimension 200, in which each element is the Euclidean distance between the corresponding row `A` and the \"middle\" row `A`. Use [np.linalg.norm()](https://numpy.org/doc/stable/reference/generated/numpy.linalg.norm.html ).\n",
    "\n",
    "A = np.random.randint(0, 100, size=(200, 50))\n",
    "B = A.mean(axis=0)\n",
    "C = np.sqrt(((A - B) ** 2).sum(axis=1))\n",
    "print(C.shape)\n",
    "print(C)"
   ]
  },
  {
   "cell_type": "markdown",
   "metadata": {},
   "source": [
    "# Задание 2.12 (2 балла)\n",
    "\n",
    "Создайте новый массив, который состоит из элементов `A`, измененных по следующим правилам:\n",
    "- если элемент меньше $50$, то он умножается на $2$\n",
    "- в противном случае он умножается на $3$\n",
    "\n",
    "Используйте [np.where()](https://numpy.org/doc/stable/reference/generated/numpy.where.html)"
   ]
  },
  {
   "cell_type": "code",
   "execution_count": 48,
   "metadata": {},
   "outputs": [
    {
     "name": "stdout",
     "output_type": "stream",
     "text": [
      "[[162 294 162 ...  20 273 168]\n",
      " [291 207 213 ...  14 261 216]\n",
      " [ 60 153  74 ... 171  88 252]\n",
      " ...\n",
      " [ 26  40 297 ... 231  92 198]\n",
      " [ 60 207 162 ...  40 219  28]\n",
      " [ 98  74 231 ...  52  14 174]]\n"
     ]
    }
   ],
   "source": [
    "# Create a new array that consists of `A` elements modified according to the following rules:\n",
    "# - if the element is less than 50, then it is multiplied by 2;\n",
    "# - otherwise it is multiplied by 3.\n",
    "# Use [np.where()](https://numpy.org/doc/stable/reference/generated/numpy.where.html ).\n",
    "\n",
    "A = np.random.randint(0, 100, size=(200, 50))\n",
    "B = np.where(A < 50, A * 2, A * 3)\n",
    "print(B)\n"
   ]
  },
  {
   "cell_type": "markdown",
   "metadata": {},
   "source": [
    "# Задание 2.13 (7 баллов)\n",
    "\n",
    "Разверните массив `A` в одномерный массив. Создайте три новых массива, подсчитав скользящие средние по окнам $3$, $5$, $10$. Найдите сумму этих массивов, выровнив из размерности нулями справа\n",
    "\n",
    "*Tip: реализуйте функцию, которая считает скользящее среднее. Используйте [np.cumsum()](https://numpy.org/doc/stable/reference/generated/numpy.cumsum.html) или [np.convolve()](https://numpy.org/doc/stable/reference/generated/numpy.convolve.html)*"
   ]
  },
  {
   "cell_type": "code",
   "execution_count": 49,
   "metadata": {},
   "outputs": [
    {
     "name": "stdout",
     "output_type": "stream",
     "text": [
      "[30077. 27857. 30708. 31583. 28727. 27592. 30392. 28082. 30683. 29798.\n",
      " 29869. 29056. 28704. 30129. 28258. 29948. 27679. 28839. 29570. 29897.\n",
      " 30200. 29426. 30527. 27891. 28620. 28482. 30096. 30083. 31795. 27305.\n",
      " 29412. 27693. 31682. 27559. 28392. 30009. 28416. 29730. 28977. 29718.\n",
      " 28613. 30295. 30173. 30806. 27866. 31968. 28822. 26230. 28841. 25832.]\n",
      "[49533. 46174. 50728. 52132. 47311. 45634. 50267. 46501. 50587. 49209.\n",
      " 49181. 47919. 47537. 49804. 46867. 49417. 45662. 47762. 48958. 49243.\n",
      " 50009. 48667. 50642. 45932. 47145. 46937. 49824. 49758. 52412. 45159.\n",
      " 48563. 46003. 52490. 45602. 47090. 49601. 47037. 49030. 47737. 49226.\n",
      " 47475. 49832. 49853. 50798. 46060. 52786. 47660. 43384. 47782. 42729.]\n",
      "[ 96580.  90566.  99062. 101157.  92079.  89484.  98197.  90570.  98423.\n",
      "  95975.  95796.  92953.  92768.  96771.  92076.  95492.  88689.  93202.\n",
      "  95506.  96369.  97722.  94611.  98369.  89227.  91521.  90824.  97203.\n",
      "  97304. 101697.  88175.  95375.  89578. 102825.  88915.  92733.  97183.\n",
      "  91886.  95592.  93112.  96013.  92744.  96935.  97517.  98789.  89478.\n",
      " 102894.  93170.  84780.  93430.  83367.]\n"
     ]
    }
   ],
   "source": [
    "# Expand the array `A` into a one-dimensional array. Create three new arrays by calculating the moving averages of the windows 3, 5, 10. Find the sum of these arrays by aligning from the dimension with zeros on the right\n",
    "# *Tip: Implement a function that counts the moving average. Use [np.cumsum()](https://numpy.org/doc/stable/reference/generated/numpy.cumsum.html ) or [np.convolve()](https://numpy.org/doc/stable/reference/generated/numpy.convolve.html )*\n",
    "\n",
    "A = np.random.randint(0, 100, size=(200, 50))\n",
    "B = np.concatenate((A, np.zeros((2, 50))), axis=0)\n",
    "C = np.cumsum(B, axis=0)\n",
    "D = C[3:] - C[:-3]\n",
    "E = np.cumsum(B, axis=0)\n",
    "F = E[5:] - E[:-5]\n",
    "G = np.cumsum(B, axis=0)\n",
    "H = G[10:] - G[:-10]\n",
    "print(D.sum(axis=0))\n",
    "print(F.sum(axis=0))\n",
    "print(H.sum(axis=0))\n"
   ]
  },
  {
   "cell_type": "markdown",
   "metadata": {},
   "source": [
    "# Задание 2.14 (8 баллов)\n",
    "\n",
    "Постройте график функции $$f(x) = (5  \\sin(2x) - \\cos^2(x) - 1 + |x^3| - x^2) / (x^2 + 1)$$  \n",
    "\n",
    "и производной от этой функции.  Найдите минимум с помощью `scipy` и обозначьте его на графике. На этой же оси постройте графики скользящего среднего этой функции с окном $1$, $2$, $5$."
   ]
  },
  {
   "cell_type": "code",
   "execution_count": null,
   "metadata": {},
   "outputs": [],
   "source": [
    "\n"
   ]
  },
  {
   "cell_type": "markdown",
   "metadata": {},
   "source": [
    "# Задание 2.15 (10 баллов)\n",
    "\n",
    "Есть следующий алгоритм семплинирования, на вход функции подается вектор из целых положительных чисел и число семплов."
   ]
  },
  {
   "cell_type": "code",
   "execution_count": 52,
   "metadata": {},
   "outputs": [
    {
     "data": {
      "text/plain": [
       "[0, 0, 0, 4, 4]"
      ]
     },
     "execution_count": 52,
     "metadata": {},
     "output_type": "execute_result"
    }
   ],
   "source": [
    "from typing import List \n",
    "\n",
    "def sample(x: List[int], c: int) -> List[int]:\n",
    "    assert len(x) > 0\n",
    "    \n",
    "    s = np.sum(x)\n",
    "    res = []\n",
    "    for _ in range(c):\n",
    "        val = s * np.random.random()\n",
    "        cur, idx = 0, 0        \n",
    "        while cur + x[idx] <= val:\n",
    "            cur += x[idx]\n",
    "            idx += 1\n",
    "            \n",
    "        res.append(idx)\n",
    "    return res\n",
    "\n",
    "            \n",
    "sample([50, 3, 1, 7, 20], 5)  \n",
    "\n",
    "\n"
   ]
  },
  {
   "cell_type": "markdown",
   "metadata": {},
   "source": [
    "Реализуйте данный алгоритм более оптимальным способом на массивах `numpy`, без использования циклов. Проверьте корректность и идентичность алгоритмов семплирования с помощью статистических тестов."
   ]
  },
  {
   "cell_type": "code",
   "execution_count": 73,
   "metadata": {},
   "outputs": [
    {
     "data": {
      "text/plain": [
       "array([1, 4, 4, 0, 0])"
      ]
     },
     "execution_count": 73,
     "metadata": {},
     "output_type": "execute_result"
    }
   ],
   "source": [
    "# Implement this algorithm in a more optimal way on `numpy` arrays, without using loops. Check the correctness and identity of sampling algorithms using statistical tests.\n",
    "def sample(x: np.ndarray, c: int) -> np.ndarray:\n",
    "    assert len(x) > 0\n",
    "    \n",
    "    s = np.sum(x)\n",
    "    val = s * np.random.random(size=c)\n",
    "    idx = np.searchsorted(np.cumsum(x), val)\n",
    "    return idx\n",
    "\n",
    "# test\n",
    "sample(np.array([50, 3, 1, 7, 20]), 5)\n"
   ]
  },
  {
   "cell_type": "markdown",
   "metadata": {},
   "source": [
    "# Задание 2.16 (5 баллов)\n",
    "\n",
    "Есть следующий алгоритм \"случайного блуждания\""
   ]
  },
  {
   "cell_type": "code",
   "execution_count": 68,
   "metadata": {},
   "outputs": [
    {
     "data": {
      "text/plain": [
       "5.983520091998798"
      ]
     },
     "execution_count": 68,
     "metadata": {},
     "output_type": "execute_result"
    }
   ],
   "source": [
    "import random\n",
    "import timeit \n",
    "\n",
    "def walk(n: int):\n",
    "    cur_position = 0\n",
    "    for i in range(n):\n",
    "        cur_position += random.choice([-3, -1, 0, 2, 3])\n",
    "\n",
    "    return cur_position\n",
    "\n",
    "walk(10_000)\n",
    "# compare performance (using,`time it').\n",
    "timeit.timeit('walk(10_000)', globals=globals(), number=1000)"
   ]
  },
  {
   "cell_type": "markdown",
   "metadata": {},
   "source": [
    "Реализуйте более эффективную версию с помощью `numpy`, сравните производительность (используя, например, magic `timeit`). Воспользовавшись [kdeplot()](https://seaborn.pydata.org/generated/seaborn.kdeplot.html) или аналогами, постройте график распределения значений `walk(10_000)` на каком-то разумном числе запусков. "
   ]
  },
  {
   "cell_type": "code",
   "execution_count": 75,
   "metadata": {},
   "outputs": [
    {
     "data": {
      "text/plain": [
       "177.481662193004"
      ]
     },
     "execution_count": 75,
     "metadata": {},
     "output_type": "execute_result"
    }
   ],
   "source": [
    "# Implement a more efficient version using `numpy`, compare performance (using, for example, magic `time it'). Using [kdeplot()](https://seaborn.pydata.org/generated/seaborn .kdeplot.html ) or analogs, plot the distribution of the values of `walk(10_000)` on some reasonable number of launches.\n",
    "\n",
    "import timeit\n",
    "import seaborn as sns\n",
    "import matplotlib.pyplot as plt\n",
    "import numpy as np\n",
    "import random\n",
    "\n",
    "\n",
    "def walk_numpy(n: int):\n",
    "    cur_position = 0\n",
    "    for i in range(n):\n",
    "        cur_position += np.random.choice([-3, -1, 0, 2, 3])\n",
    "\n",
    "    return cur_position\n",
    "\n",
    "# test function walk_numpy\n",
    "walk_numpy(10_000)\n",
    "# compare performance (using,`time it').\n",
    "timeit.timeit('walk_numpy(10_000)', globals=globals(), number=1000)\n",
    "\n"
   ]
  },
  {
   "cell_type": "markdown",
   "metadata": {},
   "source": [
    "# Задание 2.17 (5 баллов)\n",
    "\n",
    "Имеется функция, которая проделывает достаточно странные манипуляции с массивом `numpy`"
   ]
  },
  {
   "cell_type": "code",
   "execution_count": 76,
   "metadata": {},
   "outputs": [
    {
     "data": {
      "text/plain": [
       "0.8225643261795775"
      ]
     },
     "execution_count": 76,
     "metadata": {},
     "output_type": "execute_result"
    }
   ],
   "source": [
    "import numpy.typing as npt\n",
    "\n",
    "def strange_conv(a: npt.NDArray[np.float64]) -> np.float64:\n",
    "    x = a.shape[0]\n",
    "    y = a.shape[1]\n",
    "\n",
    "    t = 1.\n",
    "    for y in range(y - 5):\n",
    "        for x in range(x - 3):\n",
    "            c = 1.5 * a[y+1, x+2] - a[y+5, x+3] * a[y, x] + 0.2 * a[y+4, x]\n",
    "            t = 0.2 * t + 0.8 * c\n",
    "\n",
    "    return t\n",
    "\n",
    "\n",
    "a = np.random.random((10000, 10000))\n",
    "strange_conv(a)\n"
   ]
  },
  {
   "cell_type": "markdown",
   "metadata": {},
   "source": [
    "Оптимизируйте данную функцию с помощью (2 на выбор):\n",
    "- [Numba](https://numba.pydata.org)\n",
    "- `Cython` (+5 баллов)\n",
    "- [Taichi](https://github.com/taichi-dev/taichi) (+5 баллов)\n",
    "- `Pythran `[[1]](https://pythran.readthedocs.io/en/latest/), [[2]](https://serge-sans-paille.github.io/pythran-stories/pythran-tutorial.html) (+2 балла)\n",
    "\n",
    "Сравните производительность."
   ]
  },
  {
   "cell_type": "code",
   "execution_count": 19,
   "metadata": {},
   "outputs": [
    {
     "data": {
      "text/plain": [
       "-0.15339751792773595"
      ]
     },
     "execution_count": 19,
     "metadata": {},
     "output_type": "execute_result"
    }
   ],
   "source": [
    "# optimize function strange_conv using `Numba` and compare performance.ResourceWarning\n",
    "\n",
    "import numba as nb\n",
    "import numpy as np \n",
    "import numpy.typing as npt\n",
    "import timeit\n",
    "\n",
    "@nb.njit\n",
    "def strange_conv(a: npt.NDArray[np.float64]) -> np.float64:\n",
    "    x = a.shape[0]\n",
    "    y = a.shape[1]\n",
    "\n",
    "    t = 1.\n",
    "    for y in range(y - 5):\n",
    "        for x in range(x - 3):\n",
    "            c = 1.5 * a[y+1, x+2] - a[y+5, x+3] * a[y, x] + 0.2 * a[y+4, x]\n",
    "            t = 0.2 * t + 0.8 * c\n",
    "\n",
    "    return t\n",
    "\n",
    "a = np.random.random((10000, 10000))\n",
    "strange_conv(a)"
   ]
  }
 ],
 "metadata": {
  "kernelspec": {
   "display_name": "Python 3.10.6 64-bit",
   "language": "python",
   "name": "python3"
  },
  "language_info": {
   "codemirror_mode": {
    "name": "ipython",
    "version": 3
   },
   "file_extension": ".py",
   "mimetype": "text/x-python",
   "name": "python",
   "nbconvert_exporter": "python",
   "pygments_lexer": "ipython3",
   "version": "3.10.6"
  },
  "orig_nbformat": 4,
  "vscode": {
   "interpreter": {
    "hash": "916dbcbb3f70747c44a77c7bcd40155683ae19c65e1c03b4aa3499c5328201f1"
   }
  }
 },
 "nbformat": 4,
 "nbformat_minor": 2
}
